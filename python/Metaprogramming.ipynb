{
 "cells": [
  {
   "cell_type": "markdown",
   "metadata": {},
   "source": [
    "## Metaclasses\n",
    "- Metaclasses are classes whose instance are class objects.\n",
    "- Allows for dynamic creation of classes e.g dynamically adding/removing methods and creating logic at runtime.\n",
    "- Gives control of how child classes are being created, invisible to the person implementing the child class."
   ]
  },
  {
   "cell_type": "code",
   "execution_count": 1,
   "metadata": {},
   "outputs": [],
   "source": [
    "import itertools\n",
    "\n",
    "def exec_(command):\n",
    "    \"\"\"Print command and result of execution\"\"\"\n",
    "    print(command + \": \" + str(eval(command)))\n",
    "    \n",
    "def members(obj):\n",
    "    \"\"\"Return public members as strings\"\"\"\n",
    "    return [member for member in dir(obj) if not member.startswith('__')]"
   ]
  },
  {
   "cell_type": "markdown",
   "metadata": {},
   "source": [
    "### 1. Creating classes via type"
   ]
  },
  {
   "cell_type": "code",
   "execution_count": 2,
   "metadata": {},
   "outputs": [
    {
     "name": "stdout",
     "output_type": "stream",
     "text": [
      "a.__class__.__name__: A\n",
      "a.inc(): 1\n",
      "a.inc(): 2\n",
      "a.__dict__: {'x': 2}\n",
      "members(a): ['inc', 'x']\n"
     ]
    }
   ],
   "source": [
    "def init(self, x):\n",
    "    self.x = x\n",
    "    \n",
    "def inc(self):\n",
    "    self.x += 1\n",
    "    return self.x\n",
    "\n",
    "A = type('A', (object, ), {'__init__': init, 'inc': inc})\n",
    "a = A(0)\n",
    "\n",
    "exec_('a.__class__.__name__')\n",
    "\n",
    "exec_('a.inc()')\n",
    "exec_('a.inc()')\n",
    "\n",
    "exec_('a.__dict__')\n",
    "exec_('members(a)')"
   ]
  },
  {
   "cell_type": "markdown",
   "metadata": {},
   "source": [
    "#### 1.1 Usecase: Class factory\n",
    " - Dynamically creates classes and configures what methods they should have."
   ]
  },
  {
   "cell_type": "code",
   "execution_count": 3,
   "metadata": {},
   "outputs": [
    {
     "name": "stdout",
     "output_type": "stream",
     "text": [
      "C.__name__: C\n",
      "members(C): []\n",
      "\n",
      "C.__name__: CM2\n",
      "members(C): ['method2']\n",
      "\n",
      "C.__name__: CM1\n",
      "members(C): ['method1']\n",
      "\n",
      "C.__name__: CM1M2\n",
      "members(C): ['method1', 'method2']\n",
      "\n"
     ]
    }
   ],
   "source": [
    "def method1(self):\n",
    "    print('method1')\n",
    "\n",
    "def method2(self):\n",
    "    print('method2')\n",
    "\n",
    "class ClassFactory(object):\n",
    "    \n",
    "    def create(self, with_method1=False, with_method2=False):\n",
    "        name = 'C'\n",
    "        dict_ = {}\n",
    "        if with_method1:\n",
    "            dict_['method1'] = method1\n",
    "            name += 'M1'\n",
    "        if with_method2:\n",
    "            dict_['method2'] = method2\n",
    "            name += 'M2'\n",
    "        res = type(name, (object, ), dict_)\n",
    "        return res\n",
    "        \n",
    "        \n",
    "factory = ClassFactory()\n",
    "confs = itertools.product([False, True], [False, True])\n",
    "classes = [factory.create(*conf) for conf in confs]\n",
    "\n",
    "for C in classes:\n",
    "    exec_('C.__name__')\n",
    "    exec_('members(C)')\n",
    "    print('')"
   ]
  },
  {
   "cell_type": "markdown",
   "metadata": {},
   "source": [
    "### 2. Metaclasses\n",
    "- Overwrite the behaviour of type.\n",
    "- Metaclass \\_\\_init\\_\\_ has same signature as type.\n",
    "- When the code that contains the class definition is being executed it is taken apart and sent as parameters to the metaclass constructor.\n",
    "    - name and bases extracted from class signature\n",
    "    - dict_ contains the members defined in the class body\n",
    "    "
   ]
  },
  {
   "cell_type": "code",
   "execution_count": 4,
   "metadata": {},
   "outputs": [],
   "source": [
    "class MetaClass(type):\n",
    "    \n",
    "    def __init__(self, name, bases, dict_):\n",
    "        \"\"\"\n",
    "        This is being called when the cell below is being executed.\n",
    "        \"\"\"\n",
    "        super().__init__(name, bases, dict_)\n",
    "        print('Class {} is being created'.format(name))\n",
    "        print('These are the class parents: {}'.format(bases))\n",
    "        print('These are the attributes from the class body {}'.format(dict_))\n",
    "        self.class_variable_defined_in_metaclass = 10\n",
    "        self.func_defined_in_metaclass = lambda self, x: self.class_variable_defined_in_metaclass + x"
   ]
  },
  {
   "cell_type": "code",
   "execution_count": 5,
   "metadata": {},
   "outputs": [
    {
     "name": "stdout",
     "output_type": "stream",
     "text": [
      "Class A is being created\n",
      "These are the class parents: (<class 'object'>,)\n",
      "These are the attributes from the class body {'__module__': '__main__', '__qualname__': 'A', '__doc__': '\\n    Some doc\\n    ', '__init__': <function A.__init__ at 0x7fabf0420d90>, 'print_members': <function A.print_members at 0x7fabf0420950>}\n"
     ]
    }
   ],
   "source": [
    "\"\"\"\n",
    "The metaclass is being called when this code is passed to the interpreter aka when this cell is run.\n",
    "! Not when A is being instantiated !\n",
    "The result is that the object A (which represents a class) is being created and made available.\n",
    "\"\"\"\n",
    "\n",
    "class A(object, metaclass=MetaClass):\n",
    "    \"\"\"\n",
    "    Some doc\n",
    "    \"\"\"\n",
    "    def __init__(self):\n",
    "        print('An object of type A is being instantiated')\n",
    "        \n",
    "    def print_members(self):\n",
    "        print(members(self))"
   ]
  },
  {
   "cell_type": "code",
   "execution_count": 6,
   "metadata": {},
   "outputs": [
    {
     "data": {
      "text/plain": [
       "10"
      ]
     },
     "execution_count": 6,
     "metadata": {},
     "output_type": "execute_result"
    }
   ],
   "source": [
    "A.class_variable_defined_in_metaclass"
   ]
  },
  {
   "cell_type": "code",
   "execution_count": 7,
   "metadata": {},
   "outputs": [
    {
     "name": "stdout",
     "output_type": "stream",
     "text": [
      "An object of type A is being instantiated\n"
     ]
    }
   ],
   "source": [
    "a = A()"
   ]
  },
  {
   "cell_type": "code",
   "execution_count": 8,
   "metadata": {},
   "outputs": [
    {
     "name": "stdout",
     "output_type": "stream",
     "text": [
      "['class_variable_defined_in_metaclass', 'func_defined_in_metaclass', 'print_members']\n"
     ]
    }
   ],
   "source": [
    "a.print_members()"
   ]
  },
  {
   "cell_type": "markdown",
   "metadata": {},
   "source": [
    "#### 2.1 Usecase: Wrap methods from child classes\n",
    "- How to wrap a method in any child class, preferably in a transparent manner.\n",
    "    - Option 1: decorate the method in child class.\n",
    "    - Option 2: wrap child method in parent init: gets messed up in serialization/deserialization.\n",
    "    - Option 3: have a func in parent class which calls a func_ overriden in child class.\n",
    "    - Option 4 not valid: override parent func in child class and call super().func - doesn't work if you want things to happend before and after execution.\n",
    "    - Option 5: meta classes!\n",
    "- Control the creation of a child class by wrapping at class instantiation."
   ]
  },
  {
   "cell_type": "code",
   "execution_count": 9,
   "metadata": {},
   "outputs": [],
   "source": [
    "def wrapper(func):\n",
    "    def wrapped(self, *args, **kwargs):\n",
    "        print('wrapper: ' + func.__name__ + ' will be called')\n",
    "        res = func(self, *args, **kwargs)\n",
    "        print('wrapper: ' + func.__name__ + ' has been called')\n",
    "        return res\n",
    "    return wrapped\n",
    "\n",
    "class MetaClass(type):\n",
    "    \n",
    "    def __init__(self, name, bases, dict_):\n",
    "        super().__init__(name, bases, dict_)\n",
    "        \n",
    "        if 'func' in dict_:\n",
    "            print('wrapping func of {}'.format(name))\n",
    "            self.func = wrapper(dict_['func'])\n",
    "        "
   ]
  },
  {
   "cell_type": "code",
   "execution_count": 10,
   "metadata": {},
   "outputs": [
    {
     "name": "stdout",
     "output_type": "stream",
     "text": [
      "wrapping func of A\n"
     ]
    }
   ],
   "source": [
    "class A(object, metaclass=MetaClass):\n",
    "    def __init__(self, x):\n",
    "        self.x = x\n",
    "        \n",
    "    def func(self):\n",
    "        print(self.x)"
   ]
  },
  {
   "cell_type": "code",
   "execution_count": 11,
   "metadata": {},
   "outputs": [
    {
     "name": "stdout",
     "output_type": "stream",
     "text": [
      "wrapper: func will be called\n",
      "99\n",
      "wrapper: func has been called\n"
     ]
    }
   ],
   "source": [
    "A(99).func()"
   ]
  },
  {
   "cell_type": "code",
   "execution_count": 12,
   "metadata": {},
   "outputs": [
    {
     "name": "stdout",
     "output_type": "stream",
     "text": [
      "wrapping func of B\n",
      "wrapper: func will be called\n",
      "99\n",
      "wrapper: func has been called\n"
     ]
    }
   ],
   "source": [
    "# But also in any subsequent child class\n",
    "\n",
    "class B(A):\n",
    "    def __init__(self, x):\n",
    "        self.x = x\n",
    "        \n",
    "    def func(self):\n",
    "        print(self.x)\n",
    "\n",
    "B(99).func()"
   ]
  }
 ],
 "metadata": {
  "kernelspec": {
   "display_name": "Python 3",
   "language": "python",
   "name": "python3"
  },
  "language_info": {
   "codemirror_mode": {
    "name": "ipython",
    "version": 3
   },
   "file_extension": ".py",
   "mimetype": "text/x-python",
   "name": "python",
   "nbconvert_exporter": "python",
   "pygments_lexer": "ipython3",
   "version": "3.6.6"
  }
 },
 "nbformat": 4,
 "nbformat_minor": 2
}
