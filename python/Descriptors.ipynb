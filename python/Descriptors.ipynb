{
 "cells": [
  {
   "cell_type": "markdown",
   "metadata": {},
   "source": [
    "# Descriptors\n",
    "- Dynamic setter and getter to enhance entire classes"
   ]
  },
  {
   "cell_type": "markdown",
   "metadata": {},
   "source": [
    "## 1. Descriptors for the Decorator Design Pattern\n",
    "- We design a bank account and want to dynamically display/change the balance based on some local currency.\n",
    "- The converter (descriptor) enhances the bank account with additional functionality **at run time**. (as opposed to python decorators)\n",
    "\n",
    "May not be the best example?"
   ]
  },
  {
   "cell_type": "code",
   "execution_count": 82,
   "metadata": {},
   "outputs": [],
   "source": [
    "class Converter(object):\n",
    "    \n",
    "    def __init__(self, rate: float):\n",
    "        self.rate = rate\n",
    "        \n",
    "    def __get__(self, obj, type=None):\n",
    "        return self.rate * obj.balance\n",
    "\n",
    "    def __set__(self, obj, value):\n",
    "        obj.balance = value / self.rate\n",
    "    \n",
    "\n",
    "class USDAccount(object):\n",
    "    def __init__(self, balance):\n",
    "        self.balance = balance "
   ]
  },
  {
   "cell_type": "code",
   "execution_count": 90,
   "metadata": {
    "scrolled": true
   },
   "outputs": [
    {
     "name": "stdout",
     "output_type": "stream",
     "text": [
      "You have 100.00 USD\n"
     ]
    }
   ],
   "source": [
    "# have an account with 100 USD\n",
    "my_account = USDAccount(100.)\n",
    "\n",
    "print(\"You have {:.2f} USD\".format(my_account.balance))"
   ]
  },
  {
   "cell_type": "code",
   "execution_count": 91,
   "metadata": {},
   "outputs": [
    {
     "name": "stdout",
     "output_type": "stream",
     "text": [
      "You have 100.00 USD\n",
      "You have 80.00 EUR\n"
     ]
    }
   ],
   "source": [
    "# Adding functionality to let users display their balance in europe and pay in\n",
    "USDAccount.balance_EUR = Converter(rate=.80)  # Note: Attaching a descriptor to all USDAccounts\n",
    "\n",
    "def print_balances(account):\n",
    "    print(\"You have {:.2f} USD\".format(my_account.balance))\n",
    "    print(\"You have {:.2f} EUR\".format(my_account.balance_EUR))\n",
    "\n",
    "print_balances(my_account)"
   ]
  },
  {
   "cell_type": "code",
   "execution_count": 92,
   "metadata": {},
   "outputs": [
    {
     "name": "stdout",
     "output_type": "stream",
     "text": [
      "You have 250.00 USD\n",
      "You have 200.00 EUR\n"
     ]
    }
   ],
   "source": [
    "# Changing balance in EUR\n",
    "my_account.balance_EUR = 200\n",
    "\n",
    "print_balances(my_account)"
   ]
  },
  {
   "cell_type": "code",
   "execution_count": 93,
   "metadata": {},
   "outputs": [
    {
     "name": "stdout",
     "output_type": "stream",
     "text": [
      "You have 250.00 USD\n",
      "You have 212.50 EUR\n"
     ]
    }
   ],
   "source": [
    "# Italian elections\n",
    "USDAccount.balance_EUR = Converter(rate=.85)\n",
    "\n",
    "print_balances(my_account)"
   ]
  }
 ],
 "metadata": {
  "kernelspec": {
   "display_name": "Python 3",
   "language": "python",
   "name": "python3"
  },
  "language_info": {
   "codemirror_mode": {
    "name": "ipython",
    "version": 3
   },
   "file_extension": ".py",
   "mimetype": "text/x-python",
   "name": "python",
   "nbconvert_exporter": "python",
   "pygments_lexer": "ipython3",
   "version": "3.6.5"
  }
 },
 "nbformat": 4,
 "nbformat_minor": 2
}
