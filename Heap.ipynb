{
 "cells": [
  {
   "cell_type": "markdown",
   "metadata": {},
   "source": [
    "# Minheap"
   ]
  },
  {
   "cell_type": "code",
   "execution_count": 314,
   "metadata": {
    "collapsed": true
   },
   "outputs": [],
   "source": [
    "import numpy as np\n",
    "import pandas as pd"
   ]
  },
  {
   "cell_type": "code",
   "execution_count": 304,
   "metadata": {},
   "outputs": [],
   "source": [
    "def _parent(i):\n",
    "    return i >> 1\n",
    "\n",
    "\n",
    "def _right(i):\n",
    "    return (i << 1) + 1 \n",
    "\n",
    "\n",
    "def _left(i):\n",
    "    return i << 1\n",
    "\n",
    "\n",
    "def _insert(heap, x):\n",
    "    heap.append(x)\n",
    "    heap = _trickle_up(heap, len(heap) - 1)\n",
    "    return heap\n",
    "\n",
    "\n",
    "def _trickle_up(heap, i):\n",
    "    if i == 1:\n",
    "        return heap\n",
    "    parent = i // 2\n",
    "    if heap[i] > heap[parent]:\n",
    "        return heap\n",
    "    heap[i], heap[parent] = heap[parent], heap[i]\n",
    "    return _trickle_up(heap, parent)\n",
    "\n",
    "\n",
    "def _trickle_down(heap, i, heap_len):\n",
    "    left = _left(i)\n",
    "    right = _right(i)\n",
    "    argmin_ = i\n",
    "    \n",
    "    # argmin between parent, right and left child\n",
    "    if left < heap_len and heap[left] < heap[argmin_]:\n",
    "        argmin_ = left\n",
    "    if right < heap_len and heap[right] < heap[argmin_]:\n",
    "        argmin_ = right\n",
    "        \n",
    "    if argmin_ == i:\n",
    "        return heap\n",
    "    heap[argmin_], heap[i] = heap[i], heap[argmin_]\n",
    "    return _trickle_down(heap, argmin_, heap_len)\n",
    "    \n",
    "\n",
    "def _delete_min(heap):\n",
    "    heap[1] = heap[-1]\n",
    "    heap.pop(len(heap) - 1)\n",
    "    heap = _trickle_down(heap, 1, len(heap))\n",
    "    return heap\n",
    "\n",
    "\n",
    "def _construct_heap(arr):\n",
    "    heap = [None] + arr\n",
    "    for i in range(len(arr)//2, 0, -1):\n",
    "        heap = _trickle_down(heap, i, len(heap))\n",
    "    return heap\n",
    "            \n",
    "\n",
    "class Minheap(object):\n",
    "    \n",
    "    def __init__(self, arr):\n",
    "        self.heap = _construct_heap(arr)\n",
    "\n",
    "    def insert(self, x):\n",
    "        self.heap = _insert(self.heap, x)\n",
    "    \n",
    "    def delete_min(self):\n",
    "        self.heap = _delete_min(self.heap)\n",
    "        \n",
    "    def get_min(self):\n",
    "        return self.heap[1]\n",
    "    \n",
    "    def pop_min(self):\n",
    "        res = self.heap[1]\n",
    "        self.delete_min()\n",
    "        return res\n",
    "    \n",
    "    def sort(self):\n",
    "        for i in range(1, len(self.heap)):\n",
    "            self.heap[1], self.heap[-i] = self.heap[-i], self.heap[1]\n",
    "            self.heap = _trickle_down(self.heap, 1, len(self.heap) - i)\n",
    "        self.heap = [None] + self.heap[:0:-1]\n",
    "        return self.heap\n",
    "    \n",
    "    def print_heap(self):\n",
    "        print(list(range(1, len(self.heap))))\n",
    "        print(self.heap[1:])"
   ]
  },
  {
   "cell_type": "code",
   "execution_count": 286,
   "metadata": {
    "collapsed": true
   },
   "outputs": [],
   "source": [
    "def heap_sort(arr):\n",
    "    arr.insert(0, None)\n",
    "        \n",
    "    def _trickle_down(heap, ix, heap_len):\n",
    "        left = ix<<1\n",
    "        right = (ix<<1) + 1\n",
    "        \n",
    "        argmax_ = ix\n",
    "        if left < heap_len and heap[argmax_] < heap[left]:\n",
    "            argmax_ = left\n",
    "        if right < heap_len and heap[argmax_] < heap[right]:\n",
    "            argmax_ = right\n",
    "            \n",
    "        if argmax_ == ix:\n",
    "            return heap\n",
    "    \n",
    "        heap[ix], heap[argmax_] = heap[argmax_], heap[ix]\n",
    "        return _trickle_down(heap, argmax_, heap_len)\n",
    "    \n",
    "    # build heap\n",
    "    for ix in range(len(arr)//2, 0, -1):\n",
    "        arr = _trickle_down(arr, ix, len(arr))\n",
    "        \n",
    "    # delete max\n",
    "    for ix in range(1, len(arr)):\n",
    "        arr[-ix], arr[1] = arr[1], arr[-ix]\n",
    "        arr = _trickle_down(arr, 1, len(arr)-ix)\n",
    "    \n",
    "    del arr[0]\n",
    "    return arr"
   ]
  },
  {
   "cell_type": "code",
   "execution_count": 305,
   "metadata": {},
   "outputs": [
    {
     "name": "stdout",
     "output_type": "stream",
     "text": [
      "[1, 2, 3, 4, 5, 6, 7, 8, 9]\n",
      "[1, 2, 3, 5, 5, 4, 8, 9, 6]\n",
      "\n",
      "\n",
      "[1, 2, 3, 4, 5, 6, 7, 8, 9]\n",
      "[1, 2, 3, 4, 5, 5, 6, 8, 9]\n"
     ]
    }
   ],
   "source": [
    "v = [5, 1, 8, 2, 5, 4, 3, 9, 6]\n",
    "mh = Minheap(v)\n",
    "mh.print_heap()\n",
    "\n",
    "print(\"\\n\")\n",
    "\n",
    "mh.sort()\n",
    "mh.print_heap()"
   ]
  },
  {
   "cell_type": "code",
   "execution_count": 310,
   "metadata": {},
   "outputs": [
    {
     "data": {
      "text/plain": [
       "True"
      ]
     },
     "execution_count": 310,
     "metadata": {},
     "output_type": "execute_result"
    }
   ],
   "source": [
    "v = list(np.random.randint(-100, 100, size=1000))\n",
    "v = Minheap(v).sort()[1:]\n",
    "pd.Series(v).is_monotonic"
   ]
  },
  {
   "cell_type": "code",
   "execution_count": 311,
   "metadata": {
    "scrolled": true
   },
   "outputs": [
    {
     "name": "stdout",
     "output_type": "stream",
     "text": [
      "[None, 1, 2, 3, 4, 5, 5, 6, 8, 9]\n"
     ]
    }
   ],
   "source": [
    "v = [5, 1, 8, 2, 5, 4, 3, 9, 6]\n",
    "heap_sort(v)\n",
    "print(v[1:])"
   ]
  },
  {
   "cell_type": "code",
   "execution_count": 313,
   "metadata": {},
   "outputs": [
    {
     "data": {
      "text/plain": [
       "True"
      ]
     },
     "execution_count": 313,
     "metadata": {},
     "output_type": "execute_result"
    }
   ],
   "source": [
    "v = list(np.random.randint(-100, 100, size=1000))\n",
    "heap_sort(v)\n",
    "pd.Series(v[1:]).is_monotonic"
   ]
  },
  {
   "cell_type": "code",
   "execution_count": null,
   "metadata": {
    "collapsed": true
   },
   "outputs": [],
   "source": []
  }
 ],
 "metadata": {
  "kernelspec": {
   "display_name": "Python 3",
   "language": "python",
   "name": "python3"
  },
  "language_info": {
   "codemirror_mode": {
    "name": "ipython",
    "version": 3
   },
   "file_extension": ".py",
   "mimetype": "text/x-python",
   "name": "python",
   "nbconvert_exporter": "python",
   "pygments_lexer": "ipython3",
   "version": "3.5.3"
  }
 },
 "nbformat": 4,
 "nbformat_minor": 2
}
