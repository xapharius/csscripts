{
 "cells": [
  {
   "cell_type": "markdown",
   "metadata": {},
   "source": [
    "# The Stack Datastructure\n",
    "\n",
    "Using array implementation - assuming known fixed size.  \n",
    "Ignoring exceptions.\n",
    "\n",
    "**Operations**:\n",
    "- Push\n",
    "- Pop\n",
    "\n",
    "**Comparisons**:\n",
    "- python list\n",
    "- python array\n",
    "- numpy\n",
    "- cython\n",
    "- c++\n",
    "\n",
    "**Disclaimer**:  \n",
    "Significant bias because of implementation, have to rethink it\n",
    "- time results include time to loop over operations (in favor of cpp)\n",
    "- python versions definitely more comparable to each other than cpp\n",
    "- cpp has additional but minimal overhead because the subprocess has to be created"
   ]
  },
  {
   "cell_type": "markdown",
   "metadata": {},
   "source": [
    "## I. Implementation"
   ]
  },
  {
   "cell_type": "markdown",
   "metadata": {},
   "source": [
    "### 1. Python List"
   ]
  },
  {
   "cell_type": "code",
   "execution_count": 129,
   "metadata": {},
   "outputs": [],
   "source": [
    "class PyStackList(object):\n",
    "    \n",
    "    def __init__(self, size):\n",
    "        self.top = -1\n",
    "        self.stack = [0] * size\n",
    "        \n",
    "    def push(self, x):\n",
    "        self.top += 1\n",
    "        self.stack[self.top] = x\n",
    "        \n",
    "    def pop(self):\n",
    "        self.top -= 1\n",
    "        return self.stack[self.top + 1]"
   ]
  },
  {
   "cell_type": "markdown",
   "metadata": {},
   "source": [
    "### 2. Python Array"
   ]
  },
  {
   "cell_type": "code",
   "execution_count": 88,
   "metadata": {
    "collapsed": true
   },
   "outputs": [],
   "source": [
    "import array\n",
    "\n",
    "\n",
    "class PyStackArray(object):\n",
    "    \n",
    "    def __init__(self, size):\n",
    "        self.top = -1\n",
    "        self.stack = array.array(\"l\", [0] * size)\n",
    "        \n",
    "    def push(self, x):\n",
    "        self.top += 1\n",
    "        self.stack[self.top] = x\n",
    "        \n",
    "    def pop(self):\n",
    "        self.top -= 1\n",
    "        return self.stack[self.top + 1]"
   ]
  },
  {
   "cell_type": "markdown",
   "metadata": {},
   "source": [
    "### 3. Numpy"
   ]
  },
  {
   "cell_type": "code",
   "execution_count": 89,
   "metadata": {
    "collapsed": true
   },
   "outputs": [],
   "source": [
    "import numpy as np\n",
    "\n",
    "\n",
    "class PyStackNumpy(object):\n",
    "    \n",
    "    def __init__(self, size):\n",
    "        self.top = -1\n",
    "        self.stack = np.ndarray((size,), dtype=np.int32)\n",
    "        \n",
    "    def push(self, x):\n",
    "        self.top += 1\n",
    "        self.stack[self.top] = 1\n",
    "    \n",
    "    def pop(self):\n",
    "        self.top -= 1\n",
    "        return self.stack[self.top + 1]"
   ]
  },
  {
   "cell_type": "markdown",
   "metadata": {},
   "source": [
    "### 4. Cython"
   ]
  },
  {
   "cell_type": "code",
   "execution_count": 90,
   "metadata": {},
   "outputs": [
    {
     "name": "stdout",
     "output_type": "stream",
     "text": [
      "The cython extension is already loaded. To reload it, use:\n",
      "  %reload_ext cython\n"
     ]
    }
   ],
   "source": [
    "%load_ext cython"
   ]
  },
  {
   "cell_type": "code",
   "execution_count": 208,
   "metadata": {
    "scrolled": true
   },
   "outputs": [],
   "source": [
    "%%cython\n",
    "\n",
    "import numpy as np\n",
    "cimport numpy as np\n",
    "from libc.stdlib cimport malloc\n",
    "\n",
    "cdef class CyStack(object):\n",
    "    \n",
    "    cdef np.int32_t *stack\n",
    "    cdef int top\n",
    "    \n",
    "    def __cinit__(self, size):\n",
    "        self.top = -1\n",
    "        self.stack = <np.int32_t*>malloc(size * sizeof(np.int32_t))\n",
    "        \n",
    "    cpdef push(self, np.int32_t x):\n",
    "        self.top += 1\n",
    "        self.stack[self.top] = x\n",
    "        \n",
    "    cpdef pop(self):\n",
    "        self.top -= 1\n",
    "        return self.stack[self.top + 1]"
   ]
  },
  {
   "cell_type": "markdown",
   "metadata": {},
   "source": [
    "### 5. C++"
   ]
  },
  {
   "cell_type": "code",
   "execution_count": 94,
   "metadata": {},
   "outputs": [],
   "source": [
    "%load_ext cppmagic"
   ]
  },
  {
   "cell_type": "code",
   "execution_count": 210,
   "metadata": {},
   "outputs": [
    {
     "data": {
      "text/plain": [
       "<TimeitResult : 12.9 ms ± 159 µs per loop (mean ± std. dev. of 7 runs, 100 loops each)>"
      ]
     },
     "execution_count": 210,
     "metadata": {},
     "output_type": "execute_result"
    }
   ],
   "source": [
    "%%cpp -t\n",
    "\n",
    "int N_ELEM = 100000;\n",
    "int N_CYCLES = 3;\n",
    "    \n",
    "\n",
    "class CppStack{\n",
    "    long *stack;\n",
    "    int top;\n",
    "    \n",
    "    public: CppStack(int size){\n",
    "        top = -1;\n",
    "        stack = new long[size];\n",
    "    }\n",
    "    \n",
    "    public: void push(long x){\n",
    "        top += 1;\n",
    "        stack[top] = x;\n",
    "    }\n",
    "    \n",
    "    public: long pop(){\n",
    "        top -= 1;\n",
    "        return stack[top + 1];\n",
    "    }\n",
    "};\n",
    "\n",
    "int main(){\n",
    "    \n",
    "    CppStack stack(N_ELEM);\n",
    "    for(int cycles = 0; cycles < N_CYCLES; ++cycles){\n",
    "        for(int i=0; i < N_ELEM; ++i)\n",
    "            stack.push(i);\n",
    "        for(int i=0; i < N_ELEM; ++i)\n",
    "            stack.pop();\n",
    "    }\n",
    "    \n",
    "}"
   ]
  },
  {
   "cell_type": "code",
   "execution_count": 211,
   "metadata": {},
   "outputs": [],
   "source": [
    "cpp_res = Out[max(list(Out.keys()))]"
   ]
  },
  {
   "cell_type": "markdown",
   "metadata": {},
   "source": [
    "## II. Evaluation"
   ]
  },
  {
   "cell_type": "code",
   "execution_count": 231,
   "metadata": {
    "collapsed": true
   },
   "outputs": [],
   "source": [
    "import pandas as pd\n",
    "import seaborn as sns\n",
    "import matplotlib.pyplot as plt\n",
    "%matplotlib inline"
   ]
  },
  {
   "cell_type": "code",
   "execution_count": 235,
   "metadata": {},
   "outputs": [
    {
     "name": "stdout",
     "output_type": "stream",
     "text": [
      "Python List\n",
      "347 ms ± 41.8 ms per loop (mean ± std. dev. of 7 runs, 1 loop each)\n",
      "Python Array\n",
      "417 ms ± 35.1 ms per loop (mean ± std. dev. of 7 runs, 1 loop each)\n",
      "Python Numpy\n",
      "371 ms ± 19.9 ms per loop (mean ± std. dev. of 7 runs, 1 loop each)\n",
      "Cython\n",
      "71.8 ms ± 5.96 ms per loop (mean ± std. dev. of 7 runs, 10 loops each)\n"
     ]
    }
   ],
   "source": [
    "N_ELEM = 100000\n",
    "N_CYCLES = 3\n",
    "\n",
    "def get_runtime(obj):\n",
    "    for _ in range(N_CYCLES):\n",
    "        for i in range(N_ELEM):\n",
    "            obj.push(i)\n",
    "        for _ in range(N_ELEM):\n",
    "            obj.pop()\n",
    "\n",
    "time_res = {}\n",
    "print(\"Python List\")\n",
    "tmp_ = %timeit -o get_runtime(PyStackList(N_ELEM))\n",
    "time_res[\"Python List\"] = tmp_\n",
    "\n",
    "print(\"Python Array\")\n",
    "tmp_ = %timeit -o get_runtime(PyStackArray(N_ELEM))\n",
    "time_res[\"Python Array\"] = tmp_\n",
    "\n",
    "print(\"Python Numpy\")\n",
    "tmp_ = %timeit -o get_runtime(PyStackNumpy(N_ELEM))\n",
    "time_res[\"Python Numpy\"] = tmp_\n",
    "\n",
    "print(\"Cython\")\n",
    "tmp_ = %timeit -o get_runtime(CyStack(N_ELEM))\n",
    "time_res[\"Cython\"] = tmp_\n",
    "\n",
    "time_res[\"C++\"] = cpp_res"
   ]
  },
  {
   "cell_type": "code",
   "execution_count": 236,
   "metadata": {},
   "outputs": [
    {
     "data": {
      "image/png": "[encoded data removed]",
      "text/plain": [
       "<matplotlib.figure.Figure at 0x7f8a6fb89400>"
      ]
     },
     "metadata": {},
     "output_type": "display_data"
    }
   ],
   "source": [
    "def plot_results(results_dict):\n",
    "    plt.figure(figsize=(15, 8))\n",
    "    d = {key: res.timings for key, res in results_dict.items()}\n",
    "    df = pd.DataFrame(d)\n",
    "    sns.boxplot(data=df)\n",
    "    \n",
    "plot_results(time_res)"
   ]
  },
  {
   "cell_type": "markdown",
   "metadata": {},
   "source": [
    "## III. Conclusion\n",
    "\n",
    "- Definitely WIP, maybe easier for other data structures/algos\n",
    "- Dont know how comparable is C++, has advantage in operations loop - should benchmark that\n",
    "- Cython looks quite good, even though operation loops are in python\n",
    "- Python implementations are quite similar, not much difference in indexing speed (pretty much all that happens)\n",
    "- Numpy shines in vectorized operations, which are not used here"
   ]
  }
 ],
 "metadata": {
  "kernelspec": {
   "display_name": "Python 3",
   "language": "python",
   "name": "python3"
  },
  "language_info": {
   "codemirror_mode": {
    "name": "ipython",
    "version": 3
   },
   "file_extension": ".py",
   "mimetype": "text/x-python",
   "name": "python",
   "nbconvert_exporter": "python",
   "pygments_lexer": "ipython3",
   "version": "3.5.3"
  }
 },
 "nbformat": 4,
 "nbformat_minor": 2
}
